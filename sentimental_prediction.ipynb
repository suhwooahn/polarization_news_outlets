{
 "cells": [
  {
   "cell_type": "markdown",
   "metadata": {},
   "source": [
    "## Sentimental Analysis Prediction"
   ]
  },
  {
   "cell_type": "markdown",
   "metadata": {},
   "source": [
    "."
   ]
  },
  {
   "cell_type": "code",
   "execution_count": 1,
   "metadata": {},
   "outputs": [],
   "source": [
    "import pandas as pd\n",
    "import numpy as np\n",
    "from sklearn.feature_extraction.text import CountVectorizer # frequency based DTM\n",
    "from sklearn.feature_extraction.text import TfidfVectorizer # tf-idf based DTM\n",
    "import konlpy.tag\n",
    "\n",
    "from sklearn.feature_extraction.text import CountVectorizer\n",
    "from sklearn.feature_extraction.text import TfidfVectorizer\n",
    "from sklearn.linear_model import LogisticRegression\n",
    "\n",
    "from sklearn.metrics import accuracy_score\n",
    "\n",
    "twitter = konlpy.tag.Twitter()\n",
    "from ckonlpy.tag import Twitter"
   ]
  },
  {
   "cell_type": "code",
   "execution_count": 2,
   "metadata": {},
   "outputs": [
    {
     "data": {
      "text/plain": [
       "0           [미리보는 오늘]文 대통령, 트럼프와 환영만찬\n",
       "1             국군 장병들과 기념 촬영하는 문재인 대통령\n",
       "2    [단독] 대통령 특별사면 솔솔…청와대 \"일부 고려 중이다\"\n",
       "3                 김대통령 \"건설투자로 경제 활성화\"\n",
       "4        뜨거운 청와대 국민청원, 도 넘은 축구 대표팀 질타\n",
       "Name: article_title, dtype: object"
      ]
     },
     "execution_count": 2,
     "metadata": {},
     "output_type": "execute_result"
    }
   ],
   "source": [
    "dt = pd.read_csv('C:/Users/Ahn Suhwoo/Desktop/polarization/python_text/selected_all_test_others.csv', encoding='utf-8')\n",
    "title = dt.article_title\n",
    "title.head()"
   ]
  },
  {
   "cell_type": "markdown",
   "metadata": {},
   "source": [
    "."
   ]
  },
  {
   "cell_type": "markdown",
   "metadata": {},
   "source": [
    "### 1.1 불용어 제거 및 단어 추출"
   ]
  },
  {
   "cell_type": "code",
   "execution_count": 3,
   "metadata": {},
   "outputs": [],
   "source": [
    "tagger = Twitter()\n",
    "tagger.add_dictionary(['우병우', '국정감사', '노믹스', '사실상', '책임총리', '소득주도성장', '송금', '가능',\\\n",
    "                       '한나라당', '새누리당', '한국당', '국민회의', '통합민주당', '민주통합당', '새정치민주연합', '더불어민주당', '민주당',\\\n",
    "                       '신당', '이명박근혜', '패싱', '엠비씨', '디제이피', '정권교체', '먹튀', '회전문', '낙하산', '사대강', '소주성',\\\n",
    "                       '통합진보당','정의당','바른미래당','민주노동당','민주노총','한국노총',\\\n",
    "                       'MBC', 'DJP', '정권교체', '먹튀','회전문', '낙하산', '4대강', '권한대행','국가보안법','대남','대북','대미','대중','대일','방한',\\\n",
    "                       '북방한계선','386','486','586','운동권','친일','안전보장회의','친노','친문','친이','친박', '자유무역협정','FTA','G20','APEC',\\\n",
    "                       ], 'Noun')"
   ]
  },
  {
   "cell_type": "code",
   "execution_count": 4,
   "metadata": {},
   "outputs": [],
   "source": [
    "title_parsed = []\n",
    "\n",
    "for tit in title:\n",
    "    tit_morphs = []\n",
    "    filtered_tit = tit.replace(',',' ').replace(\"'\",\" \").replace('\"',' ').replace('<',' ').replace('>',' ').replace('.',' ')\\\n",
    "                      .replace('[',' ').replace(']',' ').replace('…',' ').replace('“',' ').replace('”',' ').replace('‘',' ').replace('’',' ')\\\n",
    "                      .replace('＂',' ').replace('＂',' ').replace('·',' ').replace('(',' ').replace(')',' ').replace('-',' ')\\\n",
    "                      .replace('軍','군').replace('國','국').replace('對','대').replace('南','남').replace('黨','당')\\\n",
    "                      .replace('公論','공론').replace('反','반').replace('現','현').replace('前','전').replace('金産','금산')\\\n",
    "                      .replace('全','전').replace('大','대').replace('民','민').replace('生','생').replace('心','심').replace('訪','방').replace('韓','한')\\\n",
    "                      .replace('國保法','국보법').replace('國','국').replace('與圈','여권').replace('聯政','연정').replace('發','발').replace('北核','북핵')\\\n",
    "                      .replace('國政','국정').replace('左派','좌파').replace('右派','우파').replace('左右','좌파 우파').replace('利敵','이적')\\\n",
    "                      .replace('親','친').replace('日','일').replace('史','사').replace('再議','재의')\\\n",
    "                      .replace('사설','').replace('경향포토','').replace('시사IN 제%d+호','').replace('단독','').replace('%','퍼센트')\\\n",
    "                      .replace('속보','').replace('단신','').replace('서소문사진관','').replace('특보','').replace('大選','대선')\\\n",
    "                      .replace('미리 보는 오늘','').replace('오마이포토','').replace('포토','').replace('派兵','파병')\\\n",
    "                      .replace('MBC','엠비씨').replace('DJP','디제이피').replace('4대강','사대강').replace('정권 교체','정권교체')\\\n",
    "                      .replace('김 대통령','김대중 대통령').replace('노 대통령','노무현 대통령').replace('이 대통령','이명박 대통령')\\\n",
    "                      .replace('박 대통령','박근혜 대통령').replace('문 대통령','문재인 대통령')\\\n",
    "                      .replace('金 대통령','김대중 대통령').replace('盧 대통령','노무현 대통령').replace('李 대통령','이명박 대통령')\\\n",
    "                      .replace('朴 대통령','박근혜 대통령').replace('文 대통령','문재인 대통령')\\\n",
    "                      .replace('김 정부','김대중 정부').replace('노 정부','노무현 정부').replace('이 정부','이명박 정부')\\\n",
    "                      .replace('박 정부','박근혜 정부').replace('문 정부','문재인 정부')\\\n",
    "                      .replace('金 정부','김대중 정부').replace('盧 정부','노무현 정부').replace('李 정부','이명박 정부')\\\n",
    "                      .replace('朴 정부','박근혜 정부').replace('文 정부','문재인 정부')\\\n",
    "                      .replace('김대통령','김대중 대통령').replace('노대통령','노무현 대통령').replace('이대통령','이명박 대통령')\\\n",
    "                      .replace('박대통령','박근혜 대통령').replace('문대통령','문재인 대통령')\\\n",
    "                      .replace('金대통령','김대중 대통령').replace('盧대통령','노무현 대통령').replace('李대통령','이명박 대통령')\\\n",
    "                      .replace('朴대통령','박근혜 대통령').replace('文대통령','문재인 대통령')\\\n",
    "                      .replace('김정부','김대중 정부').replace('노정부','노무현 정부').replace('이정부','이명박 정부')\\\n",
    "                      .replace('박정부','박근혜 정부').replace('문정부','문재인 정부')\\\n",
    "                      .replace('金정부','김대중 정부').replace('盧정부','노무현 정부').replace('李정부','이명박 정부')\\\n",
    "                      .replace('朴정부','박근혜 정부').replace('文정부','문재인 정부')\\\n",
    "                      .replace('김 정권','김대중 정권').replace('노 정권','노무현 정권').replace('이 정권','이명박 정권')\\\n",
    "                      .replace('박 정권','박근혜 정권').replace('문 정권','문재인 정권')\\\n",
    "                      .replace('金 정권','김대중 정권').replace('盧 정권','노무현 정권').replace('李 정권','이명박 정권')\\\n",
    "                      .replace('朴 정권','박근혜 정권').replace('文 정권','문재인 정권')\\\n",
    "                      .replace('김정권','김대중 정권').replace('노정권','노무현 정권').replace('이정권','이명박 정권')\\\n",
    "                      .replace('박정권','박근혜 정권').replace('문정권','문재인 정권')\\\n",
    "                      .replace('金정권','김대중 정권').replace('盧정권','노무현 정권').replace('李정권','이명박 정권')\\\n",
    "                      .replace('朴정권','박근혜 정권').replace('文정권','문재인 정권')\\\n",
    "                      .replace('靑','청와대').replace('法','법').replace('稅制','세제').replace('後','후')\\\n",
    "                      .replace('여권','여당').replace('與','여당').replace('野','야당').replace('北','북한').replace('檢','검찰')\\\n",
    "                      .replace('국민의 정부','김대중 정부').replace('참여 정부','노무현 정부').replace('DJ','김대중').replace('MB','이명박')\\\n",
    "                      .replace('국민의정부','김대중 정부').replace('참여정부','노무현 정부')\\\n",
    "                      .replace('KBS','').replace('SBS','').replace('조선일보','').replace('중앙일보','')\\\n",
    "                      .replace('동아일보','').replace('세계일보','').replace('아시아경제','').replace('데일리안','')\\\n",
    "                      .replace('한겨레','').replace('경향신문','').replace('국민일보','').replace('문화일보','').replace('서울신문','')\\\n",
    "                      .replace('한국일보','').replace('한국경제','').replace('매일경제','').replace('서울경제','').replace('헤럴드경제','')\\\n",
    "                      .replace('TV조선','').replace('채널A','').replace('MBN','').replace('JTBC','').replace('노컷뉴스','')\\\n",
    "                      .replace('미디어오늘','').replace('오마이뉴스','').replace('프레시안','').replace('시사IN','').replace('뉴스타파','')\\\n",
    "                      .replace('파이낸셜뉴스','').replace('머니투데이','').replace('이데일리','')\\\n",
    "                      .replace('뉴스쇼 판','').replace('경향포토','')\\\n",
    "                      .replace('김대중','').replace('노무현','').replace('이명박','').replace('박근혜','').replace('문재인','')\\\n",
    "                      .replace('%d차','').replace('%d일','').replace('촛불집회','촛불 집회').replace('국감','국정감사')\\\n",
    "                      .replace('특검법','특검').replace('특별검사','특검').replace('특별 검사','특검')\\\n",
    "                      .replace('더민주','더불어민주당').replace('새정연','새정치민주연합').replace('새정치연합','새정치민주연합')\\\n",
    "                      .replace('자유한국당','한국당').replace('한나라','한나라당').replace('새누리','새누리당')\\\n",
    "                      .replace('통합민주','통합민주당').replace('민주통합','민주통합당').replace('근혜','이명박근혜')\\\n",
    "                      .replace('통진당','통합진보당').replace('바른미래','바른미래당').replace('민노당','민주노동당').replace('민노총','민주노총')\\\n",
    "                      .replace('NLL','북방한계선').replace('NSC','안전보장회의').replace('FTA','자유무역협정')\n",
    "                        \n",
    "    tit_pos = tagger.pos(filtered_tit)\n",
    "    for word, pos in tit_pos:\n",
    "        if pos == 'Noun':\n",
    "            tit_morphs.append(word)\n",
    "#        if pos == 'Verb':\n",
    "#            tit_morphs.append(word)\n",
    "#        if pos == 'Adjective':\n",
    "#            tit_morphs.append(word)\n",
    "    tit_morphs_re = \" \".join(tit_morphs)\n",
    "    title_parsed.append(tit_morphs_re)"
   ]
  },
  {
   "cell_type": "code",
   "execution_count": 5,
   "metadata": {},
   "outputs": [
    {
     "data": {
      "text/html": [
       "<div>\n",
       "<style>\n",
       "    .dataframe thead tr:only-child th {\n",
       "        text-align: right;\n",
       "    }\n",
       "\n",
       "    .dataframe thead th {\n",
       "        text-align: left;\n",
       "    }\n",
       "\n",
       "    .dataframe tbody tr th {\n",
       "        vertical-align: top;\n",
       "    }\n",
       "</style>\n",
       "<table border=\"1\" class=\"dataframe\">\n",
       "  <thead>\n",
       "    <tr style=\"text-align: right;\">\n",
       "      <th></th>\n",
       "      <th>0</th>\n",
       "      <th>1</th>\n",
       "    </tr>\n",
       "  </thead>\n",
       "  <tbody>\n",
       "    <tr>\n",
       "      <th>0</th>\n",
       "      <td>미리 오늘 대통령 트럼프 환영 만찬</td>\n",
       "      <td>[미리보는 오늘]文 대통령, 트럼프와 환영만찬</td>\n",
       "    </tr>\n",
       "    <tr>\n",
       "      <th>1</th>\n",
       "      <td>국군 장병 기념 촬영 대통령</td>\n",
       "      <td>국군 장병들과 기념 촬영하는 문재인 대통령</td>\n",
       "    </tr>\n",
       "    <tr>\n",
       "      <th>2</th>\n",
       "      <td>대통령 특별사면 솔솔 청와대 일부 고려 중이</td>\n",
       "      <td>[단독] 대통령 특별사면 솔솔…청와대 \"일부 고려 중이다\"</td>\n",
       "    </tr>\n",
       "    <tr>\n",
       "      <th>3</th>\n",
       "      <td>대통령 건설 투자 경제 활성화</td>\n",
       "      <td>김대통령 \"건설투자로 경제 활성화\"</td>\n",
       "    </tr>\n",
       "    <tr>\n",
       "      <th>4</th>\n",
       "      <td>청와대 국민 청원 도 축구 대표팀 질타</td>\n",
       "      <td>뜨거운 청와대 국민청원, 도 넘은 축구 대표팀 질타</td>\n",
       "    </tr>\n",
       "  </tbody>\n",
       "</table>\n",
       "</div>"
      ],
      "text/plain": [
       "                          0                                 1\n",
       "0       미리 오늘 대통령 트럼프 환영 만찬         [미리보는 오늘]文 대통령, 트럼프와 환영만찬\n",
       "1           국군 장병 기념 촬영 대통령           국군 장병들과 기념 촬영하는 문재인 대통령\n",
       "2  대통령 특별사면 솔솔 청와대 일부 고려 중이  [단독] 대통령 특별사면 솔솔…청와대 \"일부 고려 중이다\"\n",
       "3          대통령 건설 투자 경제 활성화               김대통령 \"건설투자로 경제 활성화\"\n",
       "4     청와대 국민 청원 도 축구 대표팀 질타      뜨거운 청와대 국민청원, 도 넘은 축구 대표팀 질타"
      ]
     },
     "execution_count": 5,
     "metadata": {},
     "output_type": "execute_result"
    }
   ],
   "source": [
    "title_compare = pd.DataFrame.transpose(pd.DataFrame([title_parsed, list(title)]))\n",
    "title_compare.head()"
   ]
  },
  {
   "cell_type": "markdown",
   "metadata": {},
   "source": [
    "."
   ]
  },
  {
   "cell_type": "markdown",
   "metadata": {},
   "source": [
    "### 2. DTM 만들기 (frequency-based, tf-idf)"
   ]
  },
  {
   "cell_type": "code",
   "execution_count": 10,
   "metadata": {},
   "outputs": [],
   "source": [
    "#frequency based DTM\n",
    "\n",
    "def tf_extractor(corpus):\n",
    "    vectorizer = CountVectorizer(min_df=1, ngram_range=(1,1))\n",
    "    features = vectorizer.fit_transform(corpus)\n",
    "    return vectorizer, features  \n",
    "\n",
    "filtered_texts = title_parsed\n",
    "filtered_labels = dt.coded_n[0:21734]\n",
    "\n",
    "num_train = len(filtered_labels)\n",
    "\n",
    "train_texts = filtered_texts[:num_train]\n",
    "train_labels = filtered_labels[:num_train]\n",
    "test_texts = filtered_texts[num_train:]\n",
    "\n",
    "tf_vectorizer, train_tf_features = tf_extractor(train_texts)\n",
    "test_tf_features = tf_vectorizer.transform(test_texts)\n",
    "vocablist = [word for word, _ in sorted(tf_vectorizer.vocabulary_.items(), key=lambda x:x[1])]"
   ]
  },
  {
   "cell_type": "code",
   "execution_count": 9,
   "metadata": {},
   "outputs": [],
   "source": [
    "#TF-IDF base DTM\n",
    "\n",
    "def tfidf_extractor(corpus):\n",
    "    vectorizer = TfidfVectorizer(min_df=1, \n",
    "                                 norm='l2',\n",
    "                                 smooth_idf=True,\n",
    "                                 use_idf=True,\n",
    "                                 ngram_range=(1,1))\n",
    "    features = vectorizer.fit_transform(corpus)\n",
    "    return vectorizer, features\n",
    "\n",
    "filtered_texts = title_parsed\n",
    "filtered_labels = dt.coded_n[0:21734]\n",
    "\n",
    "num_train = len(filtered_labels)\n",
    "\n",
    "train_texts = filtered_texts[:num_train]\n",
    "train_labels = filtered_labels[:num_train]\n",
    "test_texts = filtered_texts[num_train:]\n",
    "\n",
    "tfidf_vectorizer, train_tfidf_features = tfidf_extractor(train_texts)\n",
    "test_tfidf_features = tfidf_vectorizer.transform(test_texts)\n",
    "vocablist = [word for word, _ in sorted(tfidf_vectorizer.vocabulary_.items(), key=lambda x:x[1])]"
   ]
  },
  {
   "cell_type": "markdown",
   "metadata": {},
   "source": [
    "."
   ]
  },
  {
   "cell_type": "markdown",
   "metadata": {},
   "source": [
    "### 3. Prediction: Logistic regression (ridge, lasso)"
   ]
  },
  {
   "cell_type": "code",
   "execution_count": 11,
   "metadata": {},
   "outputs": [],
   "source": [
    "# Ridge regression\n",
    "# lr = LogisticRegression(C=1000.0, random_state=0)\n",
    "\n",
    "# Lasso regression\n",
    "lr = LogisticRegression(C=0.1, penalty='l1', random_state=0)\n",
    "\n",
    "lr.fit(train_tf_features, train_labels)\n",
    "pred_labels = lr.predict(test_tf_features)\n",
    "\n",
    "#lr.fit(train_tfidf_features, train_labels)\n",
    "#pred_labels = lr.predict(test_tfidf_features)"
   ]
  },
  {
   "cell_type": "code",
   "execution_count": 12,
   "metadata": {},
   "outputs": [
    {
     "name": "stdout",
     "output_type": "stream",
     "text": [
      "[(2145, 1.6302452143307917), (11121, 1.4341902919592355), (7506, 1.4335184473616023), (5623, 1.404853753905716), (11187, 1.3519052026988672)]\n",
      "논란 (1.630)\n",
      "하락 (1.434)\n",
      "위반 (1.434)\n",
      "소환 (1.405)\n",
      "한국당 (1.352)\n",
      "비판 (1.258)\n",
      "강행 (1.196)\n",
      "한나라당 (1.159)\n",
      "파문 (1.061)\n",
      "의혹 (1.060)\n",
      "정권 (1.054)\n",
      "사찰 (1.005)\n",
      "김성태 (0.993)\n",
      "탄핵 (0.951)\n",
      "홍준표 (0.873)\n",
      "측근 (0.853)\n",
      "발언 (0.826)\n",
      "손학규 (0.818)\n",
      "최저 (0.808)\n",
      "민주 (0.735)\n",
      "사저 (0.728)\n",
      "곤혹 (0.713)\n",
      "불참 (0.711)\n",
      "언론 (0.710)\n",
      "갈등 (0.700)\n",
      "특검 (0.636)\n",
      "고발 (0.600)\n",
      "반발 (0.589)\n",
      "자금 (0.563)\n",
      "의원 (0.557)\n",
      "해명 (0.555)\n",
      "지지율 (0.554)\n",
      "개입 (0.550)\n",
      "철회 (0.549)\n",
      "요구 (0.532)\n",
      "정부 (0.516)\n",
      "기자 (0.507)\n",
      "탈당 (0.488)\n",
      "엠비씨 (0.472)\n",
      "민심 (0.460)\n",
      "장악 (0.440)\n",
      "민주당 (0.438)\n",
      "까지 (0.429)\n",
      "사과 (0.424)\n",
      "낙하산 (0.411)\n",
      "검찰 (0.402)\n",
      "실패 (0.399)\n",
      "쓴소리 (0.374)\n",
      "퍼센트 (0.354)\n",
      "내곡동 (0.342)\n",
      "내년 (-0.095)\n",
      "연설 (-0.113)\n",
      "과제 (-0.115)\n",
      "경제 (-0.119)\n",
      "개편 (-0.131)\n",
      "평양 (-0.139)\n",
      "내정 (-0.148)\n",
      "업무 (-0.150)\n",
      "차관 (-0.154)\n",
      "적극 (-0.180)\n",
      "청와대 (-0.183)\n",
      "이명박근혜 (-0.189)\n",
      "평화 (-0.195)\n",
      "시대 (-0.199)\n",
      "수석 (-0.210)\n",
      "남북 (-0.234)\n",
      "강화 (-0.238)\n",
      "정상 (-0.244)\n",
      "노력 (-0.253)\n",
      "트럼프 (-0.261)\n",
      "위해 (-0.272)\n",
      "오바마 (-0.289)\n",
      "개혁 (-0.290)\n",
      "출범 (-0.295)\n",
      "대화 (-0.301)\n",
      "만찬 (-0.305)\n",
      "여야 (-0.333)\n",
      "성공 (-0.346)\n",
      "개각 (-0.363)\n",
      "간담 (-0.364)\n",
      "초청 (-0.375)\n",
      "접견 (-0.402)\n",
      "회동 (-0.404)\n",
      "야당 (-0.412)\n",
      "지원 (-0.422)\n",
      "검토 (-0.456)\n",
      "회담 (-0.469)\n",
      "북한 (-0.478)\n",
      "김정은 (-0.517)\n",
      "오늘 (-0.531)\n",
      "내일 (-0.533)\n",
      "추진 (-0.562)\n",
      "참석 (-0.581)\n",
      "한반도 (-0.589)\n",
      "오찬 (-0.662)\n",
      "협력 (-0.737)\n",
      "정상회담 (-0.765)\n",
      "방문 (-0.831)\n",
      "대통령 (-1.138)\n",
      "회의 (-1.159)\n"
     ]
    }
   ],
   "source": [
    "# Get coefficients of the model\n",
    "coefficients = lr.coef_.tolist()\n",
    "sorted_coefficients = sorted(enumerate(coefficients[0]), key=lambda x:x[1], reverse=True)\n",
    "\n",
    "print(sorted_coefficients[:5])\n",
    "for word, coef in sorted_coefficients[:50]:\n",
    "    print('{0:} ({1:.3f})'.format(vocablist[word], coef))\n",
    "for word, coef in sorted_coefficients[-50:]:\n",
    "    print('{0:} ({1:.3f})'.format(vocablist[word], coef))"
   ]
  },
  {
   "cell_type": "code",
   "execution_count": 13,
   "metadata": {},
   "outputs": [],
   "source": [
    "new_labels = list(train_labels)+list(pred_labels)"
   ]
  },
  {
   "cell_type": "code",
   "execution_count": 14,
   "metadata": {},
   "outputs": [
    {
     "data": {
      "text/html": [
       "<div>\n",
       "<style>\n",
       "    .dataframe thead tr:only-child th {\n",
       "        text-align: right;\n",
       "    }\n",
       "\n",
       "    .dataframe thead th {\n",
       "        text-align: left;\n",
       "    }\n",
       "\n",
       "    .dataframe tbody tr th {\n",
       "        vertical-align: top;\n",
       "    }\n",
       "</style>\n",
       "<table border=\"1\" class=\"dataframe\">\n",
       "  <thead>\n",
       "    <tr style=\"text-align: right;\">\n",
       "      <th></th>\n",
       "      <th>0</th>\n",
       "      <th>1</th>\n",
       "      <th>2</th>\n",
       "      <th>3</th>\n",
       "      <th>4</th>\n",
       "      <th>5</th>\n",
       "      <th>6</th>\n",
       "      <th>7</th>\n",
       "      <th>8</th>\n",
       "      <th>9</th>\n",
       "    </tr>\n",
       "  </thead>\n",
       "  <tbody>\n",
       "    <tr>\n",
       "      <th>0</th>\n",
       "      <td>1</td>\n",
       "      <td>2</td>\n",
       "      <td>138678</td>\n",
       "      <td>2017-06-29</td>\n",
       "      <td>중앙일보</td>\n",
       "      <td>문재인</td>\n",
       "      <td>[미리보는 오늘]文 대통령, 트럼프와 환영만찬</td>\n",
       "      <td>미리 오늘 대통령 트럼프 환영 만찬</td>\n",
       "      <td>0</td>\n",
       "      <td>0</td>\n",
       "    </tr>\n",
       "    <tr>\n",
       "      <th>1</th>\n",
       "      <td>1</td>\n",
       "      <td>6</td>\n",
       "      <td>28344</td>\n",
       "      <td>2017-09-28</td>\n",
       "      <td>노컷뉴스</td>\n",
       "      <td>문재인</td>\n",
       "      <td>국군 장병들과 기념 촬영하는 문재인 대통령</td>\n",
       "      <td>국군 장병 기념 촬영 대통령</td>\n",
       "      <td>0</td>\n",
       "      <td>0</td>\n",
       "    </tr>\n",
       "    <tr>\n",
       "      <th>2</th>\n",
       "      <td>1</td>\n",
       "      <td>8</td>\n",
       "      <td>6763</td>\n",
       "      <td>2013-01-08</td>\n",
       "      <td>TV조선</td>\n",
       "      <td>이명박</td>\n",
       "      <td>[단독] 대통령 특별사면 솔솔…청와대 \"일부 고려 중이다\"</td>\n",
       "      <td>대통령 특별사면 솔솔 청와대 일부 고려 중이</td>\n",
       "      <td>0</td>\n",
       "      <td>0</td>\n",
       "    </tr>\n",
       "    <tr>\n",
       "      <th>3</th>\n",
       "      <td>1</td>\n",
       "      <td>12</td>\n",
       "      <td>112983</td>\n",
       "      <td>2001-05-03</td>\n",
       "      <td>조선일보</td>\n",
       "      <td>김대중</td>\n",
       "      <td>김대통령 \"건설투자로 경제 활성화\"</td>\n",
       "      <td>대통령 건설 투자 경제 활성화</td>\n",
       "      <td>0</td>\n",
       "      <td>0</td>\n",
       "    </tr>\n",
       "    <tr>\n",
       "      <th>4</th>\n",
       "      <td>1</td>\n",
       "      <td>17</td>\n",
       "      <td>142961</td>\n",
       "      <td>2018-06-19</td>\n",
       "      <td>중앙일보</td>\n",
       "      <td>문재인</td>\n",
       "      <td>뜨거운 청와대 국민청원, 도 넘은 축구 대표팀 질타</td>\n",
       "      <td>청와대 국민 청원 도 축구 대표팀 질타</td>\n",
       "      <td>0</td>\n",
       "      <td>0</td>\n",
       "    </tr>\n",
       "  </tbody>\n",
       "</table>\n",
       "</div>"
      ],
      "text/plain": [
       "   0   1       2           3     4    5                                 6  \\\n",
       "0  1   2  138678  2017-06-29  중앙일보  문재인         [미리보는 오늘]文 대통령, 트럼프와 환영만찬   \n",
       "1  1   6   28344  2017-09-28  노컷뉴스  문재인           국군 장병들과 기념 촬영하는 문재인 대통령   \n",
       "2  1   8    6763  2013-01-08  TV조선  이명박  [단독] 대통령 특별사면 솔솔…청와대 \"일부 고려 중이다\"   \n",
       "3  1  12  112983  2001-05-03  조선일보  김대중               김대통령 \"건설투자로 경제 활성화\"   \n",
       "4  1  17  142961  2018-06-19  중앙일보  문재인      뜨거운 청와대 국민청원, 도 넘은 축구 대표팀 질타   \n",
       "\n",
       "                          7  8  9  \n",
       "0       미리 오늘 대통령 트럼프 환영 만찬  0  0  \n",
       "1           국군 장병 기념 촬영 대통령  0  0  \n",
       "2  대통령 특별사면 솔솔 청와대 일부 고려 중이  0  0  \n",
       "3          대통령 건설 투자 경제 활성화  0  0  \n",
       "4     청와대 국민 청원 도 축구 대표팀 질타  0  0  "
      ]
     },
     "execution_count": 14,
     "metadata": {},
     "output_type": "execute_result"
    }
   ],
   "source": [
    "output = pd.DataFrame.transpose(pd.DataFrame([list(dt.set), list(dt.id), list(dt.article_id), list(dt.article_date), list(dt.article_outlet),\\\n",
    "                                              list(dt.article_president),list(dt.article_title), title_parsed, list(dt.coded_n), new_labels]))\n",
    "output.head()"
   ]
  },
  {
   "cell_type": "code",
   "execution_count": 15,
   "metadata": {},
   "outputs": [],
   "source": [
    "output.columns = ['set','id','article_id','article_date', 'article_outlet', 'article_president', 'article_title', 'title_parsed',\\\n",
    "                  'original_labels', 'new_labels']"
   ]
  },
  {
   "cell_type": "code",
   "execution_count": 16,
   "metadata": {},
   "outputs": [],
   "source": [
    "output.to_csv('selected_all_test_result_others.csv')"
   ]
  },
  {
   "cell_type": "markdown",
   "metadata": {},
   "source": [
    "."
   ]
  }
 ],
 "metadata": {
  "kernelspec": {
   "display_name": "Python 3",
   "language": "python",
   "name": "python3"
  },
  "language_info": {
   "codemirror_mode": {
    "name": "ipython",
    "version": 3
   },
   "file_extension": ".py",
   "mimetype": "text/x-python",
   "name": "python",
   "nbconvert_exporter": "python",
   "pygments_lexer": "ipython3",
   "version": "3.6.3"
  }
 },
 "nbformat": 4,
 "nbformat_minor": 2
}
